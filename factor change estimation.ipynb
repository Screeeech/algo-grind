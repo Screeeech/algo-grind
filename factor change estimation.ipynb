{
 "cells": [
  {
   "cell_type": "code",
   "execution_count": 1,
   "outputs": [],
   "source": [
    "import numpy as np\n",
    "import matplotlib.pyplot as plt\n",
    "import pandas as pd\n",
    "from scipy.integrate import quad\n",
    "import scipy.stats"
   ],
   "metadata": {
    "collapsed": false,
    "pycharm": {
     "name": "#%%\n"
    }
   }
  },
  {
   "cell_type": "code",
   "execution_count": 2,
   "outputs": [],
   "source": [
    "target = 150"
   ],
   "metadata": {
    "collapsed": false,
    "pycharm": {
     "name": "#%%\n"
    }
   }
  },
  {
   "cell_type": "code",
   "execution_count": 3,
   "outputs": [],
   "source": [
    "smb = pd.read_csv(\"month_factors.csv\")"
   ],
   "metadata": {
    "collapsed": false,
    "pycharm": {
     "name": "#%%\n"
    }
   }
  },
  {
   "cell_type": "code",
   "execution_count": 4,
   "outputs": [],
   "source": [
    "smb[\"del x\"] = np.nan\n",
    "smb[\"abs dist\"] = abs(smb[\"SMB\"] - smb.iloc[target-1][\"SMB\"])\n",
    "for i in range(smb.shape[0]-1):\n",
    "    smb.loc[i, \"del x\"] = smb[\"SMB\"][i+1] - smb[\"SMB\"][i]"
   ],
   "metadata": {
    "collapsed": false,
    "pycharm": {
     "name": "#%%\n"
    }
   }
  },
  {
   "cell_type": "code",
   "execution_count": 5,
   "outputs": [
    {
     "data": {
      "text/plain": "           Date    Mkt-RF       SMB       HML    RF     del x  abs dist\n0    1990-07-31  0.035909  0.022727 -0.015909  0.03 -0.103162  0.055000\n1    1990-08-31 -0.478261 -0.080435  0.020000  0.03  0.152435  0.158162\n2    1990-09-30 -0.624000  0.072000  0.044000  0.03 -0.387652  0.005727\n3    1990-10-31  0.394348 -0.315652 -0.185217  0.03  0.378834  0.393379\n4    1990-11-30 -0.166364  0.063182  0.050000  0.03 -0.097944  0.014545\n..          ...       ...       ...       ...   ...       ...       ...\n378  2022-01-31 -0.268571 -0.208095  0.595714  0.00  0.295595  0.285823\n379  2022-02-28 -0.108000  0.087500  0.139000  0.00 -0.166196  0.009773\n380  2022-03-31  0.103043 -0.078696 -0.056522  0.00  0.060124  0.156423\n381  2022-04-30 -0.400000 -0.018571  0.252857  0.00 -0.039156  0.096299\n382  2022-05-31  0.025000 -0.057727  0.266364  0.00       NaN  0.135455\n\n[383 rows x 7 columns]",
      "text/html": "<div>\n<style scoped>\n    .dataframe tbody tr th:only-of-type {\n        vertical-align: middle;\n    }\n\n    .dataframe tbody tr th {\n        vertical-align: top;\n    }\n\n    .dataframe thead th {\n        text-align: right;\n    }\n</style>\n<table border=\"1\" class=\"dataframe\">\n  <thead>\n    <tr style=\"text-align: right;\">\n      <th></th>\n      <th>Date</th>\n      <th>Mkt-RF</th>\n      <th>SMB</th>\n      <th>HML</th>\n      <th>RF</th>\n      <th>del x</th>\n      <th>abs dist</th>\n    </tr>\n  </thead>\n  <tbody>\n    <tr>\n      <th>0</th>\n      <td>1990-07-31</td>\n      <td>0.035909</td>\n      <td>0.022727</td>\n      <td>-0.015909</td>\n      <td>0.03</td>\n      <td>-0.103162</td>\n      <td>0.055000</td>\n    </tr>\n    <tr>\n      <th>1</th>\n      <td>1990-08-31</td>\n      <td>-0.478261</td>\n      <td>-0.080435</td>\n      <td>0.020000</td>\n      <td>0.03</td>\n      <td>0.152435</td>\n      <td>0.158162</td>\n    </tr>\n    <tr>\n      <th>2</th>\n      <td>1990-09-30</td>\n      <td>-0.624000</td>\n      <td>0.072000</td>\n      <td>0.044000</td>\n      <td>0.03</td>\n      <td>-0.387652</td>\n      <td>0.005727</td>\n    </tr>\n    <tr>\n      <th>3</th>\n      <td>1990-10-31</td>\n      <td>0.394348</td>\n      <td>-0.315652</td>\n      <td>-0.185217</td>\n      <td>0.03</td>\n      <td>0.378834</td>\n      <td>0.393379</td>\n    </tr>\n    <tr>\n      <th>4</th>\n      <td>1990-11-30</td>\n      <td>-0.166364</td>\n      <td>0.063182</td>\n      <td>0.050000</td>\n      <td>0.03</td>\n      <td>-0.097944</td>\n      <td>0.014545</td>\n    </tr>\n    <tr>\n      <th>...</th>\n      <td>...</td>\n      <td>...</td>\n      <td>...</td>\n      <td>...</td>\n      <td>...</td>\n      <td>...</td>\n      <td>...</td>\n    </tr>\n    <tr>\n      <th>378</th>\n      <td>2022-01-31</td>\n      <td>-0.268571</td>\n      <td>-0.208095</td>\n      <td>0.595714</td>\n      <td>0.00</td>\n      <td>0.295595</td>\n      <td>0.285823</td>\n    </tr>\n    <tr>\n      <th>379</th>\n      <td>2022-02-28</td>\n      <td>-0.108000</td>\n      <td>0.087500</td>\n      <td>0.139000</td>\n      <td>0.00</td>\n      <td>-0.166196</td>\n      <td>0.009773</td>\n    </tr>\n    <tr>\n      <th>380</th>\n      <td>2022-03-31</td>\n      <td>0.103043</td>\n      <td>-0.078696</td>\n      <td>-0.056522</td>\n      <td>0.00</td>\n      <td>0.060124</td>\n      <td>0.156423</td>\n    </tr>\n    <tr>\n      <th>381</th>\n      <td>2022-04-30</td>\n      <td>-0.400000</td>\n      <td>-0.018571</td>\n      <td>0.252857</td>\n      <td>0.00</td>\n      <td>-0.039156</td>\n      <td>0.096299</td>\n    </tr>\n    <tr>\n      <th>382</th>\n      <td>2022-05-31</td>\n      <td>0.025000</td>\n      <td>-0.057727</td>\n      <td>0.266364</td>\n      <td>0.00</td>\n      <td>NaN</td>\n      <td>0.135455</td>\n    </tr>\n  </tbody>\n</table>\n<p>383 rows × 7 columns</p>\n</div>"
     },
     "execution_count": 5,
     "metadata": {},
     "output_type": "execute_result"
    }
   ],
   "source": [
    "smb"
   ],
   "metadata": {
    "collapsed": false,
    "pycharm": {
     "name": "#%%\n"
    }
   }
  },
  {
   "cell_type": "code",
   "execution_count": 6,
   "outputs": [
    {
     "data": {
      "text/plain": "[<matplotlib.lines.Line2D at 0x1f7d0077580>]"
     },
     "execution_count": 6,
     "metadata": {},
     "output_type": "execute_result"
    },
    {
     "data": {
      "text/plain": "<Figure size 432x288 with 1 Axes>",
      "image/png": "[encoded data removed]"
     },
     "metadata": {
      "needs_background": "light"
     },
     "output_type": "display_data"
    }
   ],
   "source": [
    "delspace = np.linspace(-1,1,100)\n",
    "delkernel = scipy.stats.gaussian_kde(np.array(smb[\"del x\"][0:target]))\n",
    "\n",
    "distspace = np.linspace(0,1,100)\n",
    "distkernel = scipy.stats.gaussian_kde(np.array(smb[\"abs dist\"][0:target]))\n",
    "\n",
    "plt.plot(delspace, delkernel.evaluate(delspace))\n",
    "plt.plot(delspace, distkernel.evaluate(distspace))"
   ],
   "metadata": {
    "collapsed": false,
    "pycharm": {
     "name": "#%%\n"
    }
   }
  },
  {
   "cell_type": "code",
   "execution_count": 7,
   "outputs": [],
   "source": [
    "delx_weights = np.zeros((len(smb[\"del x\"][:target]), 1))"
   ],
   "metadata": {
    "collapsed": false,
    "pycharm": {
     "name": "#%%\n"
    }
   }
  },
  {
   "cell_type": "code",
   "execution_count": 8,
   "outputs": [],
   "source": [
    "for i in range(len(smb[\"del x\"][:target])):\n",
    "    delx_weights[i][0] = distkernel.evaluate(smb[\"abs dist\"][i])"
   ],
   "metadata": {
    "collapsed": false,
    "pycharm": {
     "name": "#%%\n"
    }
   }
  },
  {
   "cell_type": "code",
   "execution_count": 9,
   "outputs": [
    {
     "data": {
      "text/plain": "[<matplotlib.lines.Line2D at 0x1f7d017d430>]"
     },
     "execution_count": 9,
     "metadata": {},
     "output_type": "execute_result"
    },
    {
     "data": {
      "text/plain": "<Figure size 432x288 with 1 Axes>",
      "image/png": "[encoded data removed]"
     },
     "metadata": {
      "needs_background": "light"
     },
     "output_type": "display_data"
    }
   ],
   "source": [
    "wdelkernel = scipy.stats.gaussian_kde(np.array(smb[\"del x\"][:target]), weights=delx_weights[:].ravel())\n",
    "\n",
    "plt.plot(delspace, wdelkernel.evaluate(delspace))\n",
    "plt.plot(delspace, delkernel.evaluate(delspace))\n",
    "plt.plot(delspace, distkernel.evaluate(distspace))"
   ],
   "metadata": {
    "collapsed": false,
    "pycharm": {
     "name": "#%%\n"
    }
   }
  },
  {
   "cell_type": "code",
   "execution_count": 10,
   "outputs": [
    {
     "data": {
      "text/plain": "(-0.018096351303710886, 3.1424233148913934e-11)"
     },
     "execution_count": 10,
     "metadata": {},
     "output_type": "execute_result"
    }
   ],
   "source": [
    "quad(lambda x: x*wdelkernel.evaluate(x), -1, 1)"
   ],
   "metadata": {
    "collapsed": false,
    "pycharm": {
     "name": "#%%\n"
    }
   }
  },
  {
   "cell_type": "code",
   "execution_count": 11,
   "outputs": [],
   "source": [
    "def predict_del_smb(smb, target, hist_range=150):\n",
    "    smb[\"del x\"] = np.nan\n",
    "    smb[\"abs dist\"] = abs(smb[\"SMB\"] - smb.iloc[target-1][\"SMB\"])\n",
    "    for i in range(target-hist_range, target+1):\n",
    "        smb.loc[i, \"del x\"] = smb[\"SMB\"][i+1] - smb[\"SMB\"][i]\n",
    "\n",
    "    distkernel = scipy.stats.gaussian_kde(np.array(smb[\"abs dist\"][target-hist_range:target]))\n",
    "\n",
    "    delx_weights = np.zeros((hist_range, 1))\n",
    "    for i in range(hist_range):\n",
    "        delx_weights[i][0] = distkernel.evaluate(smb[\"abs dist\"][target-hist_range+i])\n",
    "\n",
    "    wdelkernel = scipy.stats.gaussian_kde(np.array(smb[\"del x\"][target-hist_range:target]), weights=delx_weights.ravel())\n",
    "\n",
    "    return quad(lambda x: x*wdelkernel.evaluate(x), -1, 1)"
   ],
   "metadata": {
    "collapsed": false,
    "pycharm": {
     "name": "#%%\n"
    }
   }
  },
  {
   "cell_type": "code",
   "execution_count": 12,
   "outputs": [
    {
     "data": {
      "text/plain": "(-0.017615212981597878, 1.7837328187689367e-11)"
     },
     "execution_count": 12,
     "metadata": {},
     "output_type": "execute_result"
    }
   ],
   "source": [
    "predict_del_smb(pd.read_csv(\"month_factors.csv\"), 151)"
   ],
   "metadata": {
    "collapsed": false,
    "pycharm": {
     "name": "#%%\n"
    }
   }
  },
  {
   "cell_type": "code",
   "execution_count": 13,
   "outputs": [],
   "source": [
    "hist_range = 150\n",
    "smb[\"pred del x\"] = np.nan\n",
    "for i in range(hist_range,382):\n",
    "    smb.loc[i, \"pred del x\"] = predict_del_smb(pd.read_csv(\"month_factors.csv\"), i, hist_range=hist_range)[0]"
   ],
   "metadata": {
    "collapsed": false,
    "pycharm": {
     "name": "#%%\n"
    }
   }
  },
  {
   "cell_type": "code",
   "execution_count": 14,
   "outputs": [
    {
     "data": {
      "text/plain": "           Date    Mkt-RF       SMB       HML    RF     del x  abs dist  \\\n0    1990-07-31  0.035909  0.022727 -0.015909  0.03 -0.103162  0.055000   \n1    1990-08-31 -0.478261 -0.080435  0.020000  0.03  0.152435  0.158162   \n2    1990-09-30 -0.624000  0.072000  0.044000  0.03 -0.387652  0.005727   \n3    1990-10-31  0.394348 -0.315652 -0.185217  0.03  0.378834  0.393379   \n4    1990-11-30 -0.166364  0.063182  0.050000  0.03 -0.097944  0.014545   \n..          ...       ...       ...       ...   ...       ...       ...   \n378  2022-01-31 -0.268571 -0.208095  0.595714  0.00  0.295595  0.285823   \n379  2022-02-28 -0.108000  0.087500  0.139000  0.00 -0.166196  0.009773   \n380  2022-03-31  0.103043 -0.078696 -0.056522  0.00  0.060124  0.156423   \n381  2022-04-30 -0.400000 -0.018571  0.252857  0.00 -0.039156  0.096299   \n382  2022-05-31  0.025000 -0.057727  0.266364  0.00       NaN  0.135455   \n\n     pred del x  \n0           NaN  \n1           NaN  \n2           NaN  \n3           NaN  \n4           NaN  \n..          ...  \n378    0.014365  \n379   -0.000089  \n380   -0.008994  \n381    0.014417  \n382         NaN  \n\n[383 rows x 8 columns]",
      "text/html": "<div>\n<style scoped>\n    .dataframe tbody tr th:only-of-type {\n        vertical-align: middle;\n    }\n\n    .dataframe tbody tr th {\n        vertical-align: top;\n    }\n\n    .dataframe thead th {\n        text-align: right;\n    }\n</style>\n<table border=\"1\" class=\"dataframe\">\n  <thead>\n    <tr style=\"text-align: right;\">\n      <th></th>\n      <th>Date</th>\n      <th>Mkt-RF</th>\n      <th>SMB</th>\n      <th>HML</th>\n      <th>RF</th>\n      <th>del x</th>\n      <th>abs dist</th>\n      <th>pred del x</th>\n    </tr>\n  </thead>\n  <tbody>\n    <tr>\n      <th>0</th>\n      <td>1990-07-31</td>\n      <td>0.035909</td>\n      <td>0.022727</td>\n      <td>-0.015909</td>\n      <td>0.03</td>\n      <td>-0.103162</td>\n      <td>0.055000</td>\n      <td>NaN</td>\n    </tr>\n    <tr>\n      <th>1</th>\n      <td>1990-08-31</td>\n      <td>-0.478261</td>\n      <td>-0.080435</td>\n      <td>0.020000</td>\n      <td>0.03</td>\n      <td>0.152435</td>\n      <td>0.158162</td>\n      <td>NaN</td>\n    </tr>\n    <tr>\n      <th>2</th>\n      <td>1990-09-30</td>\n      <td>-0.624000</td>\n      <td>0.072000</td>\n      <td>0.044000</td>\n      <td>0.03</td>\n      <td>-0.387652</td>\n      <td>0.005727</td>\n      <td>NaN</td>\n    </tr>\n    <tr>\n      <th>3</th>\n      <td>1990-10-31</td>\n      <td>0.394348</td>\n      <td>-0.315652</td>\n      <td>-0.185217</td>\n      <td>0.03</td>\n      <td>0.378834</td>\n      <td>0.393379</td>\n      <td>NaN</td>\n    </tr>\n    <tr>\n      <th>4</th>\n      <td>1990-11-30</td>\n      <td>-0.166364</td>\n      <td>0.063182</td>\n      <td>0.050000</td>\n      <td>0.03</td>\n      <td>-0.097944</td>\n      <td>0.014545</td>\n      <td>NaN</td>\n    </tr>\n    <tr>\n      <th>...</th>\n      <td>...</td>\n      <td>...</td>\n      <td>...</td>\n      <td>...</td>\n      <td>...</td>\n      <td>...</td>\n      <td>...</td>\n      <td>...</td>\n    </tr>\n    <tr>\n      <th>378</th>\n      <td>2022-01-31</td>\n      <td>-0.268571</td>\n      <td>-0.208095</td>\n      <td>0.595714</td>\n      <td>0.00</td>\n      <td>0.295595</td>\n      <td>0.285823</td>\n      <td>0.014365</td>\n    </tr>\n    <tr>\n      <th>379</th>\n      <td>2022-02-28</td>\n      <td>-0.108000</td>\n      <td>0.087500</td>\n      <td>0.139000</td>\n      <td>0.00</td>\n      <td>-0.166196</td>\n      <td>0.009773</td>\n      <td>-0.000089</td>\n    </tr>\n    <tr>\n      <th>380</th>\n      <td>2022-03-31</td>\n      <td>0.103043</td>\n      <td>-0.078696</td>\n      <td>-0.056522</td>\n      <td>0.00</td>\n      <td>0.060124</td>\n      <td>0.156423</td>\n      <td>-0.008994</td>\n    </tr>\n    <tr>\n      <th>381</th>\n      <td>2022-04-30</td>\n      <td>-0.400000</td>\n      <td>-0.018571</td>\n      <td>0.252857</td>\n      <td>0.00</td>\n      <td>-0.039156</td>\n      <td>0.096299</td>\n      <td>0.014417</td>\n    </tr>\n    <tr>\n      <th>382</th>\n      <td>2022-05-31</td>\n      <td>0.025000</td>\n      <td>-0.057727</td>\n      <td>0.266364</td>\n      <td>0.00</td>\n      <td>NaN</td>\n      <td>0.135455</td>\n      <td>NaN</td>\n    </tr>\n  </tbody>\n</table>\n<p>383 rows × 8 columns</p>\n</div>"
     },
     "execution_count": 14,
     "metadata": {},
     "output_type": "execute_result"
    }
   ],
   "source": [
    "smb"
   ],
   "metadata": {
    "collapsed": false,
    "pycharm": {
     "name": "#%%\n"
    }
   }
  },
  {
   "cell_type": "code",
   "execution_count": 18,
   "outputs": [
    {
     "data": {
      "text/plain": "<matplotlib.collections.PathCollection at 0x1f7d0343fa0>"
     },
     "execution_count": 18,
     "metadata": {},
     "output_type": "execute_result"
    },
    {
     "data": {
      "text/plain": "<Figure size 432x288 with 1 Axes>",
      "image/png": "[encoded data removed]"
     },
     "metadata": {
      "needs_background": "light"
     },
     "output_type": "display_data"
    }
   ],
   "source": [
    "plt.scatter(smb[\"SMB\"], smb[\"del x\"])"
   ],
   "metadata": {
    "collapsed": false,
    "pycharm": {
     "name": "#%%\n"
    }
   }
  },
  {
   "cell_type": "code",
   "execution_count": 18,
   "outputs": [],
   "source": [],
   "metadata": {
    "collapsed": false,
    "pycharm": {
     "name": "#%%\n"
    }
   }
  }
 ],
 "metadata": {
  "kernelspec": {
   "display_name": "Python 3",
   "language": "python",
   "name": "python3"
  },
  "language_info": {
   "codemirror_mode": {
    "name": "ipython",
    "version": 2
   },
   "file_extension": ".py",
   "mimetype": "text/x-python",
   "name": "python",
   "nbconvert_exporter": "python",
   "pygments_lexer": "ipython2",
   "version": "2.7.6"
  }
 },
 "nbformat": 4,
 "nbformat_minor": 0
}