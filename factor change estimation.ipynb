{
 "cells": [
  {
   "cell_type": "code",
   "execution_count": 93,
   "outputs": [],
   "source": [
    "import numpy as np\n",
    "import matplotlib.pyplot as plt\n",
    "import pandas as pd\n",
    "from scipy.integrate import quad\n",
    "import scipy.stats"
   ],
   "metadata": {
    "collapsed": false,
    "pycharm": {
     "name": "#%%\n"
    }
   }
  },
  {
   "cell_type": "code",
   "execution_count": 94,
   "outputs": [],
   "source": [
    "target = 150"
   ],
   "metadata": {
    "collapsed": false,
    "pycharm": {
     "name": "#%%\n"
    }
   }
  },
  {
   "cell_type": "code",
   "execution_count": 120,
   "outputs": [],
   "source": [
    "smb = pd.read_csv(\"month_factors.csv\")"
   ],
   "metadata": {
    "collapsed": false,
    "pycharm": {
     "name": "#%%\n"
    }
   }
  },
  {
   "cell_type": "code",
   "execution_count": 121,
   "outputs": [],
   "source": [
    "smb[\"del x\"] = np.nan\n",
    "smb[\"abs dist\"] = abs(smb[\"SMB\"] - smb.iloc[target-1][\"SMB\"])\n",
    "for i in range(1, target+1):\n",
    "    smb.loc[i, \"del x\"] = smb[\"SMB\"][i] - smb[\"SMB\"][i-1]"
   ],
   "metadata": {
    "collapsed": false,
    "pycharm": {
     "name": "#%%\n"
    }
   }
  },
  {
   "cell_type": "code",
   "execution_count": 127,
   "outputs": [
    {
     "data": {
      "text/plain": "           Date    Mkt-RF       SMB       HML    RF     del x  abs dist\n0    1990-07-31  0.035909  0.022727 -0.015909  0.03       NaN  0.055000\n1    1990-08-31 -0.478261 -0.080435  0.020000  0.03 -0.103162  0.158162\n2    1990-09-30 -0.624000  0.072000  0.044000  0.03  0.152435  0.005727\n3    1990-10-31  0.394348 -0.315652 -0.185217  0.03 -0.387652  0.393379\n4    1990-11-30 -0.166364  0.063182  0.050000  0.03  0.378834  0.014545\n..          ...       ...       ...       ...   ...       ...       ...\n146  2002-09-30 -0.508571  0.135238  0.050952  0.01  0.210238  0.057511\n147  2002-10-31  0.265217 -0.220000 -0.150870  0.01 -0.355238  0.297727\n148  2002-11-30  0.245238  0.003333 -0.032857  0.01  0.223333  0.074394\n149  2002-12-31 -0.193182  0.077727  0.166818  0.01  0.074394  0.000000\n150  2003-01-31 -0.115217  0.079130  0.035217  0.00  0.001403  0.001403\n\n[151 rows x 7 columns]",
      "text/html": "<div>\n<style scoped>\n    .dataframe tbody tr th:only-of-type {\n        vertical-align: middle;\n    }\n\n    .dataframe tbody tr th {\n        vertical-align: top;\n    }\n\n    .dataframe thead th {\n        text-align: right;\n    }\n</style>\n<table border=\"1\" class=\"dataframe\">\n  <thead>\n    <tr style=\"text-align: right;\">\n      <th></th>\n      <th>Date</th>\n      <th>Mkt-RF</th>\n      <th>SMB</th>\n      <th>HML</th>\n      <th>RF</th>\n      <th>del x</th>\n      <th>abs dist</th>\n    </tr>\n  </thead>\n  <tbody>\n    <tr>\n      <th>0</th>\n      <td>1990-07-31</td>\n      <td>0.035909</td>\n      <td>0.022727</td>\n      <td>-0.015909</td>\n      <td>0.03</td>\n      <td>NaN</td>\n      <td>0.055000</td>\n    </tr>\n    <tr>\n      <th>1</th>\n      <td>1990-08-31</td>\n      <td>-0.478261</td>\n      <td>-0.080435</td>\n      <td>0.020000</td>\n      <td>0.03</td>\n      <td>-0.103162</td>\n      <td>0.158162</td>\n    </tr>\n    <tr>\n      <th>2</th>\n      <td>1990-09-30</td>\n      <td>-0.624000</td>\n      <td>0.072000</td>\n      <td>0.044000</td>\n      <td>0.03</td>\n      <td>0.152435</td>\n      <td>0.005727</td>\n    </tr>\n    <tr>\n      <th>3</th>\n      <td>1990-10-31</td>\n      <td>0.394348</td>\n      <td>-0.315652</td>\n      <td>-0.185217</td>\n      <td>0.03</td>\n      <td>-0.387652</td>\n      <td>0.393379</td>\n    </tr>\n    <tr>\n      <th>4</th>\n      <td>1990-11-30</td>\n      <td>-0.166364</td>\n      <td>0.063182</td>\n      <td>0.050000</td>\n      <td>0.03</td>\n      <td>0.378834</td>\n      <td>0.014545</td>\n    </tr>\n    <tr>\n      <th>...</th>\n      <td>...</td>\n      <td>...</td>\n      <td>...</td>\n      <td>...</td>\n      <td>...</td>\n      <td>...</td>\n      <td>...</td>\n    </tr>\n    <tr>\n      <th>146</th>\n      <td>2002-09-30</td>\n      <td>-0.508571</td>\n      <td>0.135238</td>\n      <td>0.050952</td>\n      <td>0.01</td>\n      <td>0.210238</td>\n      <td>0.057511</td>\n    </tr>\n    <tr>\n      <th>147</th>\n      <td>2002-10-31</td>\n      <td>0.265217</td>\n      <td>-0.220000</td>\n      <td>-0.150870</td>\n      <td>0.01</td>\n      <td>-0.355238</td>\n      <td>0.297727</td>\n    </tr>\n    <tr>\n      <th>148</th>\n      <td>2002-11-30</td>\n      <td>0.245238</td>\n      <td>0.003333</td>\n      <td>-0.032857</td>\n      <td>0.01</td>\n      <td>0.223333</td>\n      <td>0.074394</td>\n    </tr>\n    <tr>\n      <th>149</th>\n      <td>2002-12-31</td>\n      <td>-0.193182</td>\n      <td>0.077727</td>\n      <td>0.166818</td>\n      <td>0.01</td>\n      <td>0.074394</td>\n      <td>0.000000</td>\n    </tr>\n    <tr>\n      <th>150</th>\n      <td>2003-01-31</td>\n      <td>-0.115217</td>\n      <td>0.079130</td>\n      <td>0.035217</td>\n      <td>0.00</td>\n      <td>0.001403</td>\n      <td>0.001403</td>\n    </tr>\n  </tbody>\n</table>\n<p>151 rows × 7 columns</p>\n</div>"
     },
     "execution_count": 127,
     "metadata": {},
     "output_type": "execute_result"
    }
   ],
   "source": [
    "smb[:target+1]"
   ],
   "metadata": {
    "collapsed": false,
    "pycharm": {
     "name": "#%%\n"
    }
   }
  },
  {
   "cell_type": "code",
   "execution_count": 107,
   "outputs": [
    {
     "data": {
      "text/plain": "[<matplotlib.lines.Line2D at 0x286d52a3ee0>]"
     },
     "execution_count": 107,
     "metadata": {},
     "output_type": "execute_result"
    },
    {
     "data": {
      "text/plain": "<Figure size 432x288 with 1 Axes>",
      "image/png": "[encoded data removed]"
     },
     "metadata": {},
     "output_type": "display_data"
    }
   ],
   "source": [
    "delspace = np.linspace(-1,1,100)\n",
    "delkernel = scipy.stats.gaussian_kde(np.array(smb[\"del x\"][1:target]))\n",
    "\n",
    "distspace = np.linspace(0,1,100)\n",
    "distkernel = scipy.stats.gaussian_kde(np.array(smb[\"abs dist\"][1:target]))\n",
    "\n",
    "plt.plot(delspace, delkernel.evaluate(delspace))\n",
    "plt.plot(delspace, distkernel.evaluate(distspace))"
   ],
   "metadata": {
    "collapsed": false,
    "pycharm": {
     "name": "#%%\n"
    }
   }
  },
  {
   "cell_type": "code",
   "execution_count": 109,
   "outputs": [],
   "source": [
    "delx_weights = np.zeros((len(smb[\"del x\"][:target]), 1))"
   ],
   "metadata": {
    "collapsed": false,
    "pycharm": {
     "name": "#%%\n"
    }
   }
  },
  {
   "cell_type": "code",
   "execution_count": 111,
   "outputs": [],
   "source": [
    "for i in range(len(smb[\"del x\"][:target])):\n",
    "    delx_weights[i][0] = distkernel.evaluate(smb[\"abs dist\"][i])"
   ],
   "metadata": {
    "collapsed": false,
    "pycharm": {
     "name": "#%%\n"
    }
   }
  },
  {
   "cell_type": "code",
   "execution_count": 112,
   "outputs": [
    {
     "data": {
      "text/plain": "[<matplotlib.lines.Line2D at 0x286d53239d0>]"
     },
     "execution_count": 112,
     "metadata": {},
     "output_type": "execute_result"
    },
    {
     "data": {
      "text/plain": "<Figure size 432x288 with 1 Axes>",
      "image/png": "[encoded data removed]"
     },
     "metadata": {},
     "output_type": "display_data"
    }
   ],
   "source": [
    "wdelkernel = scipy.stats.gaussian_kde(np.array(smb[\"del x\"][1:target]), weights=delx_weights[1:].ravel())\n",
    "\n",
    "plt.plot(delspace, wdelkernel.evaluate(delspace))\n",
    "plt.plot(delspace, delkernel.evaluate(delspace))\n",
    "plt.plot(delspace, distkernel.evaluate(distspace))"
   ],
   "metadata": {
    "collapsed": false,
    "pycharm": {
     "name": "#%%\n"
    }
   }
  },
  {
   "cell_type": "code",
   "execution_count": 119,
   "outputs": [
    {
     "data": {
      "text/plain": "(0.026292931797509193, 2.473159503907137e-11)"
     },
     "execution_count": 119,
     "metadata": {},
     "output_type": "execute_result"
    }
   ],
   "source": [
    "quad(lambda x: x*wdelkernel.evaluate(x), -1, 1)"
   ],
   "metadata": {
    "collapsed": false,
    "pycharm": {
     "name": "#%%\n"
    }
   }
  },
  {
   "cell_type": "code",
   "execution_count": null,
   "outputs": [],
   "source": [
    "def predict_delx(factors, range, end):\n",
    "    smb = pd.read_csv(\"month_factors.csv\")\n",
    "    for i in range(range, end):\n"
   ],
   "metadata": {
    "collapsed": false,
    "pycharm": {
     "name": "#%%\n"
    }
   }
  }
 ],
 "metadata": {
  "kernelspec": {
   "display_name": "Python 3",
   "language": "python",
   "name": "python3"
  },
  "language_info": {
   "codemirror_mode": {
    "name": "ipython",
    "version": 2
   },
   "file_extension": ".py",
   "mimetype": "text/x-python",
   "name": "python",
   "nbconvert_exporter": "python",
   "pygments_lexer": "ipython2",
   "version": "2.7.6"
  }
 },
 "nbformat": 4,
 "nbformat_minor": 0
}